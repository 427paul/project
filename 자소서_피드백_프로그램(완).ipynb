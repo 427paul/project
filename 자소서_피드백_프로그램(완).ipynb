{
  "nbformat": 4,
  "nbformat_minor": 0,
  "metadata": {
    "colab": {
      "provenance": [],
      "toc_visible": true
    },
    "kernelspec": {
      "name": "python3",
      "display_name": "Python 3"
    },
    "language_info": {
      "name": "python"
    }
  },
  "cells": [
    {
      "cell_type": "code",
      "execution_count": null,
      "metadata": {
        "id": "rrA3mSXe5ck4"
      },
      "outputs": [],
      "source": [
        "!pip install selenium\n",
        "!apt-get update\n",
        "\n",
        "# (최초 1회)\n",
        "!apt install chromium-chromedriver\n",
        "!cp /usr/lib/chromium-browser/chromedriver '/content/drive/MyDrive/Colab Notebooks' #\n",
        "!pip install chromedriver-autoinstaller"
      ]
    },
    {
      "cell_type": "code",
      "source": [
        "import pandas as pd\n",
        "import requests\n",
        "from bs4 import BeautifulSoup as bs"
      ],
      "metadata": {
        "id": "U9WtK80K5hFc"
      },
      "execution_count": null,
      "outputs": []
    },
    {
      "cell_type": "code",
      "source": [
        "from selenium import webdriver\n",
        "from selenium.webdriver.support.ui import WebDriverWait\n",
        "from selenium.webdriver.support import expected_conditions as EC\n",
        "from selenium.webdriver.common.by import By\n",
        "import sys\n",
        "from selenium.webdriver.common.keys import Keys\n",
        "import urllib.request\n",
        "import os\n",
        "from urllib.request import urlretrieve\n",
        "\n",
        "import time\n",
        "import pandas as pd\n",
        "import numpy as np\n",
        "import chromedriver_autoinstaller  # setup chrome options"
      ],
      "metadata": {
        "id": "qrAYGSJY5iyB"
      },
      "execution_count": null,
      "outputs": []
    },
    {
      "cell_type": "code",
      "source": [
        "chrome_path = \"/content/drive/MyDrive/Colab Notebooks/chromedriver\"\n",
        "\n",
        "sys.path.insert(0,chrome_path)\n",
        "chrome_options = webdriver.ChromeOptions()\n",
        "chrome_options.add_argument('--headless') # ensure GUI is off\n",
        "chrome_options.add_argument('--no-sandbox')\n",
        "chrome_options.add_argument('--disable-dev-shm-usage')  # set path to chromedriver as per your configuration\n",
        "chrome_options.add_argument('lang=ko_KR') # 한국어\n",
        "chrome_options.add_argument('user-agent=Mozilla/5.0 (Windows NT 10.0; Win64; x64) AppleWebKit/537.36 (KHTML, like Gecko) Chrome/91.0.4472.124 Safari/537.36')\n",
        "\n",
        "chromedriver_autoinstaller.install()  # set the target URL"
      ],
      "metadata": {
        "id": "O-fYALqM5lcQ"
      },
      "execution_count": null,
      "outputs": []
    },
    {
      "cell_type": "markdown",
      "source": [
        "#지원할 직무 선택"
      ],
      "metadata": {
        "id": "KKtHIcHa5oYT"
      }
    },
    {
      "cell_type": "code",
      "source": [
        "job_categories = {\n",
        "    \"기획·전략\": [\"경영·비즈니스기획\", \"웹기획\", \"마케팅기획\", \"PL·PM·PO\", \"컨설턴트\", \"CEO·COO·CTO\", \"AI기획자\", \"AI사업전략\"],\n",
        "    \"법무·사무·총무\": [\"경영지원\", \"사무담당자\", \"총무\", \"사무보조\", \"법무담당자\", \"비서\", \"변호사\", \"법무사\", \"변리사\", \"노무사\", \"AI윤리전문가\"],\n",
        "    \"인사·HR\": [\"인사담당자\", \"HRD·HRM\", \"노무관리자\", \"잡매니저\", \"헤드헌터\", \"직업상담사\"],\n",
        "    \"회계·세무\": [\"회계담당자\", \"경리\", \"세무담당자\", \"재무담당자\", \"감사\", \"IR·공시\", \"회계사\", \"세무사\", \"관세사\"],\n",
        "    \"마케팅·광고·MD\": [\"AE(광고기획자)\", \"브랜드마케터\", \"퍼포먼스마케터\", \"CRM마케터\", \"온라인마케터\", \"콘텐츠마케터\", \"홍보\", \"설문·리서치\", \"MD\", \"카피라이터\", \"크리에이티브디렉터\", \"채널관리자\", \"그로스해커\"],\n",
        "    \"AI·개발·데이터\": [\"백엔드개발자\", \"프론트엔드개발자\", \"웹개발자\", \"앱개발자\", \"시스템엔지니어\", \"네트워크엔지니어\", \"DBA\", \"데이터엔지니어\", \"데이터사이언티스트\", \"보안엔지니어\", \"소프트웨어개발자\", \"게임개발자\", \"하드웨어개발자\", \"AI/ML엔지니어\", \"블록체인개발자\", \"클라우드엔지니어\", \"웹퍼블리셔\", \"IT컨설팅\", \"QA\", \"AI/ML연구원\", \"데이터분석가\", \"데이터라벨러\", \"프롬프트엔지니어\", \"AI보안전문가\", \"MLOps엔지니어\", \"AI서비스개발자\"],\n",
        "    \"디자인\": [\"그래픽디자이너\", \"3D디자이너\", \"제품디자이너\", \"산업디자이너\", \"광고디자이너\", \"시각디자이너\", \"영상디자이너\", \"웹디자이너\", \"UI·UX디자이너\", \"패션디자이너\", \"편집디자이너\", \"실내디자이너\", \"공간디자이너\", \"캐릭터디자이너\", \"환경디자이너\", \"아트디렉터\", \"일러스트레이터\"],\n",
        "    \"물류·무역\": [\"물류관리자\", \"구매관리자\", \"자재관리자\", \"유통관리자\", \"무역사무원\"],\n",
        "    \"운전·운송·배송\": [\"납품·배송기사\", \"배달기사\", \"수행·운전기사\", \"화물·중장비기사\", \"버스기사\", \"택시기사\", \"조종·기관사\"],\n",
        "    \"영업\": [\"제품영업\", \"서비스영업\", \"해외영업\", \"광고영업\", \"금융영업\", \"법인영업\", \"IT·기술영업\", \"영업관리\", \"영업지원\"],\n",
        "    \"고객상담·TM\": [\"인바운드상담원\", \"아웃바운드상담원\", \"고객센터관리자\"],\n",
        "    \"금융·보험\": [\"금융사무\", \"보험설계사\", \"손해사정사\", \"심사\", \"은행원·텔러\", \"계리사\", \"펀드매니저\", \"애널리스트\"],\n",
        "    \"식·음료\": [\"요리사\", \"조리사\", \"제과제빵사\", \"바리스타\", \"셰프·주방장\", \"카페·레스토랑매니저\", \"홀서버\", \"주방보조\", \"소믈리에·바텐더\", \"영양사\", \"식품연구원\", \"푸드스타일리스트\"],\n",
        "    \"고객서비스·리테일\": [\"설치·수리기사\", \"정비기사\", \"호텔종사자\", \"여행에이전트\", \"매장관리자\", \"뷰티·미용사\", \"애견미용·훈련\", \"안내데스크·리셉셔니스트\", \"경호·경비\", \"운영보조·매니저\", \"이벤트·웨딩플래너\", \"주차·주유원\", \"스타일리스트\", \"장례지도사\", \"가사도우미\", \"승무원\", \"플로리스트\"],\n",
        "    \"엔지니어링·설계\": [\"전기·전자엔지니어\", \"기계엔지니어\", \"설계엔지니어\", \"설비엔지니어\", \"반도체엔지니어\", \"화학엔지니어\", \"공정엔지니어\", \"하드웨어엔지니어\", \"통신엔지니어\", \"RF엔지니어\", \"필드엔지니어\", \"R&D·연구원\", \"AI로봇엔지니어\"],\n",
        "    \"제조·생산\": [\"생산직종사자\", \"생산·공정관리자\", \"품질관리자\", \"포장·가공담당자\", \"공장관리자\", \"용접사\"],\n",
        "    \"교육\": [\"유치원·보육교사\", \"학교·특수학교교사\", \"대학교수·강사\", \"학원강사\", \"외국어강사\", \"기술·전문강사\", \"학습지·방문교사\", \"학원상담·운영\", \"교직원·조교\", \"교재개발·교수설계\", \"AI교육컨설턴트\"],\n",
        "    \"건축·시설\": [\"건축가\", \"건축기사\", \"시공기사\", \"전기기사\", \"토목기사\", \"시설관리자\", \"현장관리자\", \"안전관리자\", \"공무\", \"소방설비\", \"현장보조\", \"감리원\", \"도시·조경설계\", \"환경기사\", \"비파괴검사원\", \"공인중개사\", \"감정평가사\", \"분양매니저\"],\n",
        "    \"의료·바이오\": [\"의사\", \"한의사\", \"간호사\", \"간호조무사\", \"약사·한약사\", \"의료기사\", \"수의사\", \"수의테크니션\", \"병원코디네이터\", \"원무행정\", \"기타의료종사자\", \"의료·약무보조\", \"바이오·제약연구원\", \"임상연구원\"],\n",
        "    \"미디어·문화·스포츠\": [\"PD·감독\", \"포토그래퍼\", \"영상편집자\", \"사운드엔지니어\", \"스태프\", \"출판·편집\", \"배급·제작자\", \"콘텐츠에디터\", \"크리에이터\", \"기자\", \"작가\", \"아나운서\", \"리포터·성우\", \"MC·쇼호스트\", \"모델\", \"연예인·매니저\", \"인플루언서\", \"통번역사\", \"큐레이터\", \"음반기획\", \"스포츠강사\", \"AI콘텐츠크리에이터\"],\n",
        "    \"공공·복지\": [\"사회복지사\", \"요양보호사\", \"환경미화원\", \"보건관리자\", \"사서\", \"자원봉사자\", \"방역·방재기사\"]\n",
        "}\n",
        "\n",
        "# 데이터프레임 생성\n",
        "data = []\n",
        "for category, jobs in job_categories.items():\n",
        "    for job in jobs:\n",
        "        data.append({\"대분류\": category, \"직무명\": job})\n",
        "\n",
        "df = pd.DataFrame(data)"
      ],
      "metadata": {
        "id": "M_n_FuGG5qs-"
      },
      "execution_count": null,
      "outputs": []
    },
    {
      "cell_type": "code",
      "source": [
        "for i in range(len(job_categories)):\n",
        "  print(f\"{i+1}. {list(job_categories.keys())[i]}\")\n",
        "arr1 = int(input('지원한 카테고리를 선택하세요 : '))\n",
        "category = list(job_categories.keys())[arr1-1]\n",
        "print()\n",
        "for i in range(len(job_categories[list(job_categories.keys())[arr1-1]])):\n",
        "  print(f\"{i+1}. {job_categories[list(job_categories.keys())[arr1-1]][i]}\")\n",
        "arr2 = int(input('지원한 직무를 선택하세요 : '))\n",
        "job = job_categories[list(job_categories.keys())[arr1-1]][arr2-1]\n",
        "category_code = 10026 + arr1 - 1"
      ],
      "metadata": {
        "id": "gb1zlxOw5rYB"
      },
      "execution_count": null,
      "outputs": []
    },
    {
      "cell_type": "markdown",
      "source": [
        "#자소서 주소 목록"
      ],
      "metadata": {
        "id": "ambXyZUj5xlI"
      }
    },
    {
      "cell_type": "code",
      "source": [
        "#==============================합격 자소서 주소========================================\n",
        "from selenium import webdriver\n",
        "from selenium.webdriver.chrome.options import Options\n",
        "from bs4 import BeautifulSoup\n",
        "import time\n",
        "assay = []\n",
        "\n",
        "# Chrome 설정\n",
        "options = Options()\n",
        "options.add_argument('--headless')  # 창 안 띄우기\n",
        "options.add_argument('--no-sandbox')\n",
        "options.add_argument('--disable-dev-shm-usage')\n",
        "\n",
        "driver = webdriver.Chrome(options=options)\n",
        "for i in range(1,2):\n",
        "  driver.get(f\"https://www.jobkorea.co.kr/starter/PassAssay?FavorCo_Stat=0&Pass_An_Stat=0&OrderBy=0&EduType=0&WorkType=0&schPart={category_code}&isSaved=1&Page={i}\")\n",
        "  # JS 렌더링 기다리기\n",
        "  time.sleep(3)\n",
        "\n",
        "  soup = BeautifulSoup(driver.page_source, 'html.parser')\n",
        "\n",
        "  # 자소서 목록 가져오기\n",
        "  ul = soup.find(\"ul\", class_=\"selfLists\")\n",
        "  li_list = ul.find_all(\"li\")\n",
        "\n",
        "  # #페이지 당 20개\n",
        "  for i in range(len(li_list)):\n",
        "    tag = li_list[i].find(\"a\", class_=\"logo\")\n",
        "    first_li = li_list[i]\n",
        "    link_tag = first_li.find(\"a\", class_=\"logo\")\n",
        "    # 만약 a 태그가 없다면 (예외 처리)\n",
        "    if not link_tag:\n",
        "        continue\n",
        "    href = tag['href']\n",
        "    #href = link_tag.get(\"href\", \"\")\n",
        "    assay.append(\"https://www.jobkorea.co.kr\" + href)\n",
        "driver.quit()"
      ],
      "metadata": {
        "id": "hOf0hnc05uTN"
      },
      "execution_count": null,
      "outputs": []
    },
    {
      "cell_type": "code",
      "source": [
        "assay"
      ],
      "metadata": {
        "id": "KGolaHAY53Ro"
      },
      "execution_count": null,
      "outputs": []
    },
    {
      "cell_type": "markdown",
      "source": [
        "#지원기업 / 지원년도 / 지원직무 / 질문 / 답변"
      ],
      "metadata": {
        "id": "oybEHRmu55eE"
      }
    },
    {
      "cell_type": "code",
      "source": [
        "data = []\n",
        "driver = webdriver.Chrome(options=chrome_options)\n",
        "for i in range(len(assay)):\n",
        "  question_list = []\n",
        "  answer_list = []\n",
        "  #링크 전달\n",
        "  driver.get(assay[i])\n",
        "\n",
        "  assay_info = driver.find_element(By.CSS_SELECTOR, 'div.selfTopBx').text\n",
        "  lines = assay_info.splitlines()\n",
        "  #===================== #지원기업 / 지원년도 / 지원직무\n",
        "  company = lines[0]  # 금융결제원\n",
        "  title = lines[2]    # 2022년 하반기 신입 백엔드개발자합격자소서\n",
        "  title_words = title.split()\n",
        "  year = title_words[0]\n",
        "  apply_for = title_words[-1]\n",
        "\n",
        "  #====================== #자소서 항목(질문)\n",
        "  question_elements = driver.find_elements(By.CSS_SELECTOR, \"dt\")\n",
        "  for elem in question_elements:\n",
        "    if elem.text[0:2] == '질문':\n",
        "      question_list.append(elem.text[7:len(elem.text)-2])\n",
        "  #====================== #자소서 내용(답변)\n",
        "  # JavaScript로 모든 dd에 class=\"show\" 추가\n",
        "  script = \"\"\"\n",
        "  const dds = document.querySelectorAll(\"dd\");\n",
        "  dds.forEach(dd => dd.classList.add(\"show\"));\n",
        "  \"\"\"\n",
        "  driver.execute_script(script)\n",
        "  time.sleep(0.5)\n",
        "  answer_list = []\n",
        "  # 이제 모든 답변 div.tx 가져오기\n",
        "  answer_elements = driver.find_elements(By.CSS_SELECTOR, \"div.tx\")\n",
        "  answer_list = [elem.text.strip() for elem in answer_elements]\n",
        "  answer_list = answer_list[0:len(question_list)]\n",
        "\n",
        "  # 데이터 저장\n",
        "  data.append({\n",
        "      \"회사\": company,\n",
        "      \"연도\": year,\n",
        "      \"직무\": apply_for[:-5],\n",
        "      \"질문\": question_list,\n",
        "      \"답변\": answer_list,\n",
        "      \"링크\": assay[i]\n",
        "  })\n",
        "\n",
        "\n",
        "driver.quit()"
      ],
      "metadata": {
        "id": "9I1n3icz545L"
      },
      "execution_count": null,
      "outputs": []
    },
    {
      "cell_type": "markdown",
      "source": [
        "##직무에 맞는 데이터만 남기기"
      ],
      "metadata": {
        "id": "F4n8TiKG59Nn"
      }
    },
    {
      "cell_type": "code",
      "source": [
        "data = [d for d in data if d['직무'] == job]"
      ],
      "metadata": {
        "id": "W9MvSV-66BiL"
      },
      "execution_count": null,
      "outputs": []
    },
    {
      "cell_type": "markdown",
      "source": [
        "#사용자 자소서"
      ],
      "metadata": {
        "id": "2mjmOZYn6Don"
      }
    },
    {
      "cell_type": "markdown",
      "source": [
        "##사용자 자소서 입력"
      ],
      "metadata": {
        "id": "y8d1yGDt6FBO"
      }
    },
    {
      "cell_type": "code",
      "source": [
        "from google.colab import files\n",
        "\n",
        "# 업로드 창이 뜨고, 파일 선택하면 업로드됨\n",
        "uploaded = files.upload()"
      ],
      "metadata": {
        "id": "AraLryiW6B-D"
      },
      "execution_count": null,
      "outputs": []
    },
    {
      "cell_type": "code",
      "source": [
        "file_path = '백엔드 자소서 샘플.pdf'"
      ],
      "metadata": {
        "id": "cT408d2o6KpL"
      },
      "execution_count": null,
      "outputs": []
    },
    {
      "cell_type": "markdown",
      "source": [
        "##사용자 자소서 텍스트 추출"
      ],
      "metadata": {
        "id": "XtAPGK6G6MnO"
      }
    },
    {
      "cell_type": "code",
      "source": [
        "!pip install pymupdf"
      ],
      "metadata": {
        "id": "BgSZVKRJ6Lt2"
      },
      "execution_count": null,
      "outputs": []
    },
    {
      "cell_type": "code",
      "source": [
        "import fitz  # PyMuPDF\n",
        "\n",
        "def extract_text_from_pdf(file_path):\n",
        "    doc = fitz.open(file_path)\n",
        "    text = \"\"\n",
        "    for page in doc:\n",
        "        text += page.get_text()\n",
        "    return text"
      ],
      "metadata": {
        "id": "JAYjS5Nr6OQD"
      },
      "execution_count": null,
      "outputs": []
    },
    {
      "cell_type": "code",
      "source": [
        "pdf_text = extract_text_from_pdf(file_path)"
      ],
      "metadata": {
        "id": "dn5xiH9o6P02"
      },
      "execution_count": null,
      "outputs": []
    },
    {
      "cell_type": "code",
      "source": [
        "pdf_text[:100]"
      ],
      "metadata": {
        "id": "-jzKO_KD6R23"
      },
      "execution_count": null,
      "outputs": []
    },
    {
      "cell_type": "markdown",
      "source": [
        "##텍스트 내용별 분류"
      ],
      "metadata": {
        "id": "Je7SDAnE6UEB"
      }
    },
    {
      "cell_type": "code",
      "source": [
        "from gradio_client import Client\n",
        "\n",
        "# Space 주소 (user/space_name)\n",
        "client = Client(\"amd/gpt-oss-120b-chatbot\")\n",
        "\n",
        "# pdf_text: 이력서 PDF에서 추출한 원본 텍스트 (정리 안 된 상태)\n",
        "\n",
        "\n",
        "# 챗봇에 보낼 프롬프트 작성\n",
        "prompt = f\"\"\"아래는 이력서 원본 텍스트입니다.\n",
        "내용별로 원본 내용을 최대한 유지한 상태로 분류해서 정리해 주세요.\n",
        "각 항목은 '항목명', '내용'으로 구성된 표 형식으로 작성해 주세요.\n",
        "결과는 파이썬 pandas DataFrame에 넣을 수 있도록 아래 형식처럼 JSON 형태의 리스트로 출력해 주세요:\n",
        "\n",
        "예시:\n",
        "```json\n",
        "[\n",
        "  {{ \"항목\": \"이름\", \"내용\": \"홍길동\" }},\n",
        "  {{ \"항목\": \"생년월일\", \"내용\": \"1990-01-01\" }},\n",
        "]\n",
        "```\n",
        "\n",
        "=== 이력서 원본 텍스트 ===\n",
        "{pdf_text}\n",
        "\"\"\"\n",
        "\n",
        "# Space 호출\n",
        "output = client.predict(prompt)\n",
        "\n",
        "print(\"분류 및 정리 결과:\")\n",
        "print(output)\n"
      ],
      "metadata": {
        "id": "o3E3PflI6Tlc"
      },
      "execution_count": null,
      "outputs": []
    },
    {
      "cell_type": "markdown",
      "source": [
        "##분류된 내용 데이터화"
      ],
      "metadata": {
        "id": "5QwhpxkN6Yfm"
      }
    },
    {
      "cell_type": "code",
      "source": [
        "import re\n",
        "import ast\n",
        "import pandas as pd\n",
        "import json"
      ],
      "metadata": {
        "id": "8Xr66fM76YBK"
      },
      "execution_count": null,
      "outputs": []
    },
    {
      "cell_type": "code",
      "source": [
        "# JSON 코드블록 추출\n",
        "match = re.search(r\"```json\\s*(\\[\\s*{.*?}\\s*\\])\\s*```\", output, re.DOTALL)\n",
        "\n",
        "if match:\n",
        "    json_text = match.group(1).strip()\n",
        "    try:\n",
        "        user_data = json.loads(json_text)\n",
        "        user_df = pd.DataFrame(user_data)\n",
        "        print(user_df)\n",
        "    except json.JSONDecodeError as e:\n",
        "        print(\"JSON 파싱 오류:\", e)\n",
        "else:\n",
        "    print(\"JSON 코드블록을 찾지 못했습니다.\")"
      ],
      "metadata": {
        "id": "wdCnz6Rn6bDH"
      },
      "execution_count": null,
      "outputs": []
    },
    {
      "cell_type": "code",
      "source": [
        "user_df"
      ],
      "metadata": {
        "id": "UOGpfIkj6dOY"
      },
      "execution_count": null,
      "outputs": []
    },
    {
      "cell_type": "markdown",
      "source": [
        "##질문-답변만 추출"
      ],
      "metadata": {
        "id": "TXLPiDS66exm"
      }
    },
    {
      "cell_type": "code",
      "source": [
        "user_qa = []\n",
        "\n",
        "for i in range(len(user_df['항목'])):\n",
        "    if len(user_df['내용'][i]) > 100:\n",
        "        user_qa.append({\n",
        "            'question': user_df['항목'][i],\n",
        "            'anwer': user_df['내용'][i]\n",
        "        })\n",
        "user_qa"
      ],
      "metadata": {
        "id": "PhkWU1tg6gCa"
      },
      "execution_count": null,
      "outputs": []
    },
    {
      "cell_type": "markdown",
      "source": [
        "##비슷한 맥락의 질문 분류"
      ],
      "metadata": {
        "id": "FDtSf-Nd6jb0"
      }
    },
    {
      "cell_type": "code",
      "source": [
        "pip install konlpy"
      ],
      "metadata": {
        "id": "5zyuMUkQ6lpQ"
      },
      "execution_count": null,
      "outputs": []
    },
    {
      "cell_type": "code",
      "source": [
        "from sentence_transformers import SentenceTransformer, util\n",
        "\n",
        "# 1) 모델 불러오기 (한국어 RoBERTa 모델 추천)\n",
        "model = SentenceTransformer('jhgan/ko-sroberta-multitask')\n"
      ],
      "metadata": {
        "id": "3bUCO1XA5UeU"
      },
      "execution_count": null,
      "outputs": []
    },
    {
      "cell_type": "code",
      "source": [
        "# user_qa가 리스트 형태일 때\n",
        "user_questions = [qa['question'] for qa in user_qa]\n",
        "user_answers = [qa['anwer'] for qa in user_qa]  # 'anwer' 키 주의\n",
        "\n",
        "pass_questions = []\n",
        "pass_answers = []\n",
        "\n",
        "for d in data:\n",
        "    pass_questions.extend(d['질문'])\n",
        "    pass_answers.extend(d['답변'])\n",
        "\n",
        "user_embeds = model.encode(user_questions, convert_to_tensor=True)\n",
        "pass_embeds = model.encode(pass_questions, convert_to_tensor=True)\n",
        "cos_sim = util.cos_sim(user_embeds, pass_embeds)"
      ],
      "metadata": {
        "id": "Z_h3eKNO_ktp"
      },
      "execution_count": null,
      "outputs": []
    },
    {
      "cell_type": "markdown",
      "source": [
        "##1.가장 유사한 자소서 하나만"
      ],
      "metadata": {
        "id": "hO15GV_OGbzt"
      }
    },
    {
      "cell_type": "code",
      "source": [
        "import pandas as pd\n",
        "\n",
        "# user_qa가 리스트 형태일 때\n",
        "user_questions = [qa['question'] for qa in user_qa]\n",
        "user_answers = [qa['anwer'] for qa in user_qa]  # 'anwer' 키 주의\n",
        "\n",
        "pass_questions = []\n",
        "pass_answers = []\n",
        "\n",
        "for d in data:\n",
        "    pass_questions.extend(d['질문'])\n",
        "    pass_answers.extend(d['답변'])\n",
        "\n",
        "user_embeds = model.encode(user_questions, convert_to_tensor=True)\n",
        "pass_embeds = model.encode(pass_questions, convert_to_tensor=True)\n",
        "cos_sim = util.cos_sim(user_embeds, pass_embeds)\n",
        "\n",
        "matched_data = []\n",
        "\n",
        "for i, user_q in enumerate(user_questions):\n",
        "    best_idx = cos_sim[i].argmax()\n",
        "    score = cos_sim[i][best_idx].item()\n",
        "\n",
        "    if score >= 0.5:\n",
        "        matched_data.append({\n",
        "            '사용자 질문': user_q,\n",
        "            '사용자 답변': user_answers[i],\n",
        "            '합격 질문': pass_questions[best_idx],\n",
        "            '합격 답변': pass_answers[best_idx],\n",
        "            '유사도': score\n",
        "        })\n",
        "    else:\n",
        "        matched_data.append({\n",
        "            '사용자 질문': user_q,\n",
        "            '사용자 답변': user_answers[i],\n",
        "            '합격 질문': None,\n",
        "            '합격 답변': None,\n",
        "            '유사도': score\n",
        "        })\n",
        "\n",
        "df_matched = pd.DataFrame(matched_data)\n",
        "print(df_matched)\n"
      ],
      "metadata": {
        "id": "WDIpFKp_6m4C"
      },
      "execution_count": null,
      "outputs": []
    },
    {
      "cell_type": "markdown",
      "source": [
        "###바로 LLM 최종 피드백"
      ],
      "metadata": {
        "id": "qSaPNheOIONd"
      }
    },
    {
      "cell_type": "code",
      "source": [
        "import time\n",
        "import pandas as pd\n",
        "from gradio_client import Client\n",
        "\n",
        "# HuggingFace Space 클라이언트\n",
        "client = Client(\"amd/gpt-oss-120b-chatbot\")\n",
        "\n",
        "feedback_results = []\n",
        "\n",
        "# df_matched의 각 행마다 피드백 생성\n",
        "for idx, row in df_matched.iterrows():\n",
        "    # 합격 질문/답변이 없는 경우 건너뛰기\n",
        "    if pd.isna(row['합격 질문']) or pd.isna(row['합격 답변']):\n",
        "        feedback_results.append({\n",
        "            '사용자 질문': row['사용자 질문'],\n",
        "            '사용자 답변': row['사용자 답변'],\n",
        "            '합격 질문': None,\n",
        "            '합격 답변': None,\n",
        "            '유사도': row['유사도'],\n",
        "            '피드백': None\n",
        "        })\n",
        "        continue\n",
        "\n",
        "    # 프롬프트 작성\n",
        "    prompt = f\"\"\"\n",
        "    아래는 사용자 자소서 질문과 답변, 그리고 유사한 합격 자소서 질문과 답변입니다.\n",
        "    당신은 합격 자소서 내용을 참고하여 사용자 자소서에 대해 구체적이고 건설적인 피드백을 작성해주세요.\n",
        "\n",
        "    사용자 자소서 질문: {row['사용자 질문']}\n",
        "    사용자 자소서 답변: {row['사용자 답변']}\n",
        "\n",
        "    합격 자소서 질문: {row['합격 질문']}\n",
        "    합격 자소서 답변: {row['합격 답변']}\n",
        "\n",
        "    사용자 자소서를 더 잘 다듬을 수 있도록 도움말을 작성해 주세요.\n",
        "    \"\"\"\n",
        "\n",
        "    try:\n",
        "        output = client.predict(prompt)\n",
        "    except Exception as e:\n",
        "        output = f\"피드백 생성 실패: {e}\"\n",
        "\n",
        "    # 결과 저장\n",
        "    feedback_results.append({\n",
        "        '사용자 질문': row['사용자 질문'],\n",
        "        '사용자 답변': row['사용자 답변'],\n",
        "        '합격 질문': row['합격 질문'],\n",
        "        '합격 답변': row['합격 답변'],\n",
        "        '유사도': row['유사도'],\n",
        "        '피드백': output\n",
        "    })\n",
        "\n",
        "    # API 요청 간 딜레이 (세션 다운 방지)\n",
        "    time.sleep(2)\n",
        "\n",
        "# 피드백 결과 DataFrame\n",
        "df_feedback = pd.DataFrame(feedback_results)\n",
        "print(df_feedback)\n",
        "\n",
        "# CSV 저장\n",
        "#df_feedback.to_csv(\"feedback_results.csv\", index=False, encoding=\"utf-8-sig\")\n"
      ],
      "metadata": {
        "id": "903oS3kvINtv"
      },
      "execution_count": null,
      "outputs": []
    },
    {
      "cell_type": "code",
      "source": [
        "print(df_feedback['사용자 질문'][0])\n",
        "print(df_feedback['사용자 답변'][0])\n",
        "print(df_feedback['피드백'][0])"
      ],
      "metadata": {
        "id": "1r30mj5AJcYL"
      },
      "execution_count": null,
      "outputs": []
    },
    {
      "cell_type": "markdown",
      "source": [
        "##2.유사도 이상인 모든 자소서"
      ],
      "metadata": {
        "id": "pEDs_psy6sdK"
      }
    },
    {
      "cell_type": "code",
      "source": [
        "matched_data = []\n",
        "\n",
        "threshold = 0.5  # 유사도 기준\n",
        "\n",
        "for i, user_q in enumerate(user_questions):\n",
        "    # 사용자 질문과 모든 합격 질문의 유사도 리스트\n",
        "    sims = cos_sim[i]\n",
        "\n",
        "    # 기준 이상인 인덱스 찾기\n",
        "    matched_indices = [j for j, score in enumerate(sims) if score >= threshold]\n",
        "\n",
        "    # 매칭 질문이 없으면 None 저장\n",
        "    if not matched_indices:\n",
        "        matched_data.append({\n",
        "            '사용자 질문': user_q,\n",
        "            '사용자 답변': user_answers[i],\n",
        "            '합격 질문': None,\n",
        "            '합격 답변': None,\n",
        "            '유사도': None\n",
        "        })\n",
        "    else:\n",
        "        # 여러 개 있으므로 각각 따로 저장\n",
        "        for idx in matched_indices:\n",
        "            matched_data.append({\n",
        "                '사용자 질문': user_q,\n",
        "                '사용자 답변': user_answers[i],\n",
        "                '합격 질문': pass_questions[idx],\n",
        "                '합격 답변': pass_answers[idx],\n",
        "                '유사도': sims[idx].item()\n",
        "            })\n",
        "\n",
        "df_matched = pd.DataFrame(matched_data)\n",
        "df_matched\n"
      ],
      "metadata": {
        "id": "S4Mw1qL_6x2q"
      },
      "execution_count": null,
      "outputs": []
    },
    {
      "cell_type": "markdown",
      "source": [
        "### 그룹별로 '유사도' 기준 내림차순 정렬 후 상위 3개만"
      ],
      "metadata": {
        "id": "AANfJrp06009"
      }
    },
    {
      "cell_type": "code",
      "source": [
        "# 그룹별로 '유사도' 기준 내림차순 정렬 후 상위 5개만\n",
        "grouped = (\n",
        "    df_matched\n",
        "    .sort_values('유사도', ascending=False)  # 우선 전체에서 정렬\n",
        "    .groupby(['사용자 질문', '사용자 답변'], group_keys=False)\n",
        "    .apply(lambda g: g.nlargest(3, '유사도'))  # 각 그룹별 top 5\n",
        "    .groupby(['사용자 질문', '사용자 답변'])\n",
        "    .agg({\n",
        "        '합격 질문': lambda x: list(x.dropna()),\n",
        "        '합격 답변': lambda x: list(x.dropna()),\n",
        "        '유사도': lambda x: list(x.dropna())\n",
        "    })\n",
        "    .reset_index()\n",
        ")"
      ],
      "metadata": {
        "id": "d7MGMOGO62Ry"
      },
      "execution_count": null,
      "outputs": []
    },
    {
      "cell_type": "markdown",
      "source": [
        "###모델 하나로 전부 평가->요약하기"
      ],
      "metadata": {
        "id": "6JGuXL7rqgpJ"
      }
    },
    {
      "cell_type": "code",
      "source": [
        "from gradio_client import Client\n",
        "import time\n",
        "# Space 주소 (user/space_name)\n",
        "client = Client(\"amd/gpt-oss-120b-chatbot\")\n",
        "\n",
        "final_feedbacks = []  # 각 사용자 질문에 대한 최종 피드백 저장\n",
        "\n",
        "# 전체 사용자 질문 반복\n",
        "for uq_idx in range(len(grouped['사용자 질문'])):\n",
        "    user_question = grouped['사용자 질문'][uq_idx]\n",
        "    user_answer = grouped['사용자 답변'][uq_idx]\n",
        "\n",
        "    feedbacks = []  # 현재 질문에 대한 모든 피드백 저장\n",
        "\n",
        "    # 해당 사용자 질문에 매칭된 모든 합격 자소서 질문/답변과 비교\n",
        "    for pq_idx in range(len(grouped['합격 질문'][uq_idx])):\n",
        "        pass_question = grouped['합격 질문'][uq_idx][pq_idx]\n",
        "        pass_answer = grouped['합격 답변'][uq_idx][pq_idx]\n",
        "\n",
        "        prompt = f\"\"\"\n",
        "        아래는 사용자 자소서 질문과 답변, 그리고 유사한 합격 자소서 질문과 답변입니다.\n",
        "        당신은 합격 자소서 내용을 참고하여 사용자 자소서에 대해 구체적이고 건설적인 피드백을 작성해주세요.\n",
        "\n",
        "        사용자 자소서 질문: {user_question}\n",
        "        사용자 자소서 답변: {user_answer}\n",
        "\n",
        "        합격 자소서 질문: {pass_question}\n",
        "        합격 자소서 답변: {pass_answer}\n",
        "\n",
        "        사용자 자소서를 더 잘 다듬을 수 있도록 도움말을 작성해 주세요.\n",
        "        \"\"\"\n",
        "\n",
        "        output = client.predict(prompt)\n",
        "        feedbacks.append(output)\n",
        "        time.sleep(2)\n",
        "    # 각 피드백을 요약\n",
        "    summary_prompt = f\"\"\"\n",
        "    아래는 동일한 사용자 자소서 질문에 대해 여러 합격 자소서 내용을 참고해 생성한 피드백들입니다.\n",
        "    이 피드백들에서 공통적으로 나타나는 핵심적인 조언과 내용을 요약해 주세요.\n",
        "    요약문은 간결하고 명확하게 작성해 주세요.\n",
        "\n",
        "    피드백들:\n",
        "    {chr(10).join(feedbacks)}\n",
        "\n",
        "    요약:\n",
        "    \"\"\"\n",
        "    summary_output = client.predict(summary_prompt)\n",
        "\n",
        "    # 최종 리스트에 저장\n",
        "    final_feedbacks.append({\n",
        "        \"질문\": user_question,\n",
        "        \"최종 피드백\": summary_output\n",
        "    })\n",
        "\n",
        "# 모든 결과 출력\n",
        "for item in final_feedbacks:\n",
        "    print(f\"질문: {item['질문']}\")\n",
        "    print(f\"최종 피드백: {item['최종 피드백']}\\n\")\n"
      ],
      "metadata": {
        "id": "KkaQWKfNqe5X"
      },
      "execution_count": null,
      "outputs": []
    },
    {
      "cell_type": "code",
      "source": [],
      "metadata": {
        "id": "UDLuVk_lsVEM"
      },
      "execution_count": null,
      "outputs": []
    }
  ]
}